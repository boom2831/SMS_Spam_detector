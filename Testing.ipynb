{
 "cells": [
  {
   "cell_type": "code",
   "execution_count": 6,
   "id": "7d167d10-6c83-416f-97c2-11b28ffef64c",
   "metadata": {
    "tags": []
   },
   "outputs": [],
   "source": [
    "import numpy as np\n",
    "import pandas as pd\n",
    "from sklearn.preprocessing import LabelEncoder\n",
    "import matplotlib.pyplot as plt\n",
    "import nltk\n",
    "import seaborn as sns\n",
    "import string\n",
    "from nltk.stem import PorterStemmer, WordNetLemmatizer\n",
    "from nltk.corpus import stopwords\n",
    "from wordcloud import WordCloud\n",
    "from collections import Counter\n",
    "from sklearn.feature_extraction.text import CountVectorizer, TfidfVectorizer\n",
    "from sklearn.model_selection import train_test_split\n",
    "from sklearn.naive_bayes import GaussianNB, MultinomialNB, BernoulliNB\n",
    "from sklearn.metrics import accuracy_score, precision_score, confusion_matrix\n",
    "from sklearn.ensemble import RandomForestClassifier\n",
    "import pickle"
   ]
  },
  {
   "cell_type": "code",
   "execution_count": 7,
   "id": "af8a8f42-5b3a-4d68-9738-f915f2d53203",
   "metadata": {
    "tags": []
   },
   "outputs": [],
   "source": [
    "cv1 = pickle.load(open('vectorizer.pkl','rb'))\n",
    "model = pickle.load(open('model.pkl', 'rb'))"
   ]
  },
  {
   "cell_type": "code",
   "execution_count": 8,
   "id": "50c4b14e-9c1d-4ac4-9fd7-e17e94ac4413",
   "metadata": {
    "tags": []
   },
   "outputs": [],
   "source": [
    "def transform_text(text):\n",
    "    text = text.lower()\n",
    "    text = nltk.word_tokenize(text)\n",
    "    alpha_numeric_char = [w for w in text if w.isalnum()]\n",
    "    \n",
    "    removed_stop_words = [w for w in alpha_numeric_char \n",
    "                          if w not in stopwords.words('english')]\n",
    "    \n",
    "    lemmatizer = WordNetLemmatizer()\n",
    "    lemmatized = [lemmatizer.lemmatize(w) for w in text]\n",
    "    \n",
    "    return lemmatized"
   ]
  },
  {
   "cell_type": "code",
   "execution_count": 15,
   "id": "ea39677b-e3e1-4572-a30e-7d7b69878bc3",
   "metadata": {
    "tags": []
   },
   "outputs": [],
   "source": [
    "input_sms = '''Congratulations! You've won a limited-time prize worth $500. \n",
    "To claim, simply reply 'Yes' with your details. \n",
    "Hurry, offer ends soon! Your prize is waiting!'''\n",
    "\n",
    "transformed_sms = \" \".join(transform_text(input_sms))\n",
    "\n",
    "vectorized_sms = cv1.transform([transformed_sms])"
   ]
  },
  {
   "cell_type": "code",
   "execution_count": 16,
   "id": "57097237-111b-463c-8ab3-a9e28cd57e1d",
   "metadata": {
    "tags": []
   },
   "outputs": [
    {
     "name": "stdout",
     "output_type": "stream",
     "text": [
      "[1]\n"
     ]
    }
   ],
   "source": [
    "print(model.predict(vectorized_sms))"
   ]
  },
  {
   "cell_type": "code",
   "execution_count": null,
   "id": "7bddd1f8-6d89-4c64-baf2-332b44bb7de6",
   "metadata": {},
   "outputs": [],
   "source": []
  }
 ],
 "metadata": {
  "kernelspec": {
   "display_name": "Python 3 (ipykernel)",
   "language": "python",
   "name": "python3"
  },
  "language_info": {
   "codemirror_mode": {
    "name": "ipython",
    "version": 3
   },
   "file_extension": ".py",
   "mimetype": "text/x-python",
   "name": "python",
   "nbconvert_exporter": "python",
   "pygments_lexer": "ipython3",
   "version": "3.11.11"
  }
 },
 "nbformat": 4,
 "nbformat_minor": 5
}
